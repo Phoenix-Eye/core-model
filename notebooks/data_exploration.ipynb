{
 "cells": [
  {
   "cell_type": "markdown",
   "metadata": {},
   "source": [
    "# Wildfire Data Exploration\n",
    "\n",
    "This notebook explores the data collected for wildfire prediction, analyzing patterns, distributions, and relationships in the data.\n",
    "\n",
    "## Table of Contents\n",
    "1. Setup and Data Loading\n",
    "2. Exploratory Data Analysis\n",
    "3. Spatial Analysis\n",
    "4. Temporal Analysis\n",
    "5. Feature Correlations\n",
    "6. Data Quality Assessment"
   ]
  },
  {
   "cell_type": "code",
   "execution_count": null,
   "metadata": {},
   "source": [
    "import sys\n",
    "import os\n",
    "from pathlib import Path\n",
    "\n",
    "# Add project root to path\n",
    "project_root = str(Path().absolute().parent)\n",
    "sys.path.append(project_root)\n",
    "\n",
    "import numpy as np\n",
    "import pandas as pd\n",
    "import matplotlib.pyplot as plt\n",
    "import seaborn as sns\n",
    "import folium\n",
    "from datetime import datetime, timedelta\n",
    "\n",
    "from src.data.collector import WildfireDataCollector\n",
    "from src.data.processor import WildfireDataProcessor\n",
    "from src.config import config\n",
    "\n",
    "%matplotlib inline\n",
    "plt.style.use('seaborn')\n",
    "sns.set_style('whitegrid')"
   ]
  },
  {
   "cell_type": "markdown",
   "metadata": {},
   "source": [
    "## 1. Data Collection and Loading"
   ]
  },
  {
   "cell_type": "code",
   "execution_count": null,
   "metadata": {},
   "source": [
    "# Initialize data collector\n",
    "collector = WildfireDataCollector(config['data'].region_bounds)\n",
    "processor = WildfireDataProcessor(config)\n",
    "\n",
    "# Collect data\n",
    "raw_data = collector.collect_all_data(\n",
    "    start_date='2020-01-01',\n",
    "    end_date='2023-12-31'\n",
    ")\n",
    "\n",
    "# Process data\n",
    "processed_data = processor.prepare_data(raw_data)"
   ]
  },
  {
   "cell_type": "markdown",
   "metadata": {},
   "source": [
    "## 2. Exploratory Data Analysis"
   ]
  },
  {
   "cell_type": "code",
   "execution_count": null,
   "metadata": {},
   "source": [
    "def plot_data_summary(data):\n",
    "    \"\"\"Plot summary statistics for the dataset\"\"\"\n",
    "    fig, axes = plt.subplots(2, 2, figsize=(15, 12))\n",
    "    \n",
    "    # Plot fire occurrence distribution\n",
    "    sns.histplot(data['viirs'].sum(axis=(1, 2)), ax=axes[0, 0])\n",
    "    axes[0, 0].set_title('Distribution of Fire Occurrences')\n",
    "    axes[0, 0].set_xlabel('Number of Fire Pixels')\n",
    "    \n",
    "    # Plot temperature distribution\n",
    "    sns.boxplot(data=data['weather']['temperature_2m'].flatten(), ax=axes[0, 1])\n",
    "    axes[0, 1].set_title('Temperature Distribution')\n",
    "    \n",
    "    # Plot humidity distribution\n",
    "    sns.boxplot(data=data['weather']['relative_humidity_2m'].flatten(), ax=axes[1, 0])\n",
    "    axes[1, 0].set_title('Humidity Distribution')\n",
    "    \n",
    "    # Plot wind speed distribution\n",
    "    wind_speed = np.sqrt(\n",
    "        data['weather']['u_component_of_wind_10m']**2 +\n",
    "        data['weather']['v_component_of_wind_10m']**2\n",
    "    )\n",
    "    sns.boxplot(data=wind_speed.flatten(), ax=axes[1, 1])\n",
    "    axes[1, 1].set_title('Wind Speed Distribution')\n",
    "    \n",
    "    plt.tight_layout()\n",
    "    plt.show()\n",
    "\n",
    "plot_data_summary(raw_data)"
   ]
  },
  {
   "cell_type": "markdown",
   "metadata": {},
   "source": [
    "## 3. Spatial Analysis"
   ]
  },
  {
   "cell_type": "code",
   "execution_count": null,
   "metadata": {},
   "source": [
    "def create_fire_heatmap(data):\n",
    "    \"\"\"Create a heatmap of fire occurrences\"\"\"\n",
    "    center_lat = (config['data'].region_bounds['lat_min'] + \n",
    "                 config['data'].region_bounds['lat_max']) / 2\n",
    "    center_lon = (config['data'].region_bounds['lon_min'] + \n",
    "                 config['data'].region_bounds['lon_max']) / 2\n",
    "    \n",
    "    m = folium.Map(location=[center_lat, center_lon], zoom_start=10)\n",
    "    \n",
    "    # Add heatmap layer\n",
    "    fire_points = []\n",
    "    for lat_idx in range(data['viirs'].shape[1]):\n",
    "        for lon_idx in range(data['viirs'].shape[2]):\n",
    "            if data['viirs'][:, lat_idx, lon_idx].sum() > 0:\n",
    "                lat = config['data'].region_bounds['lat_min'] + \\\n",
    "                      lat_idx * (config['data'].region_bounds['lat_max'] - \n",
    "                                config['data'].region_bounds['lat_min']) / data['viirs'].shape[1]\n",
    "                lon = config['data'].region_bounds['lon_min'] + \\\n",
    "                      lon_idx * (config['data'].region_bounds['lon_max'] - \n",
    "                                config['data'].region_bounds['lon_min']) / data['viirs'].shape[2]\n",
    "                fire_points.append([lat, lon, data['viirs'][:, lat_idx, lon_idx].sum()])\n",
    "    \n",
    "    folium.HeatMap(fire_points).add_to(m)\n",
    "    return m\n",
    "\n",
    "heatmap = create_fire_heatmap(raw_data)\n",
    "heatmap"
   ]
  },
  {
   "cell_type": "markdown",
   "metadata": {},
   "source": [
    "## 4. Temporal Analysis"
   ]
  },
  {
   "cell_type": "code",
   "execution_count": null,
   "metadata": {},
   "source": [
    "def plot_temporal_patterns(data):\n",
    "    \"\"\"Plot temporal patterns in fire occurrences\"\"\"\n",
    "    fig, axes = plt.subplots(2, 1, figsize=(15, 10))\n",
    "    \n",
    "    # Daily pattern\n",
    "    daily_fires = data['viirs'].sum(axis=(1, 2))\n",
    "    axes[0].plot(daily_fires)\n",
    "    axes[0].set_title('Daily Fire Occurrences')\n",
    "    axes[0].set_xlabel('Day')\n",
    "    axes[0].set_ylabel('Number of Fire Pixels')\n",
    "    \n",
    "    # Monthly pattern\n",
    "    monthly_fires = np.array([daily_fires[i:i+30].mean() \n",
    "                             for i in range(0, len(daily_fires), 30)])\n",
    "    axes[1].plot(monthly_fires)\n",
    "    axes[1].set_title('Monthly Fire Occurrences')\n",
    "    axes[1].set_xlabel('Month')\n",
    "    axes[1].set_ylabel('Average Number of Fire Pixels')\n",
    "    \n",
    "    plt.tight_layout()\n",
    "    plt.show()\n",
    "\n",
    "plot_temporal_patterns(raw_data)"
   ]
  },
  {
   "cell_type": "markdown",
   "metadata": {},
   "source": [
    "## 5. Feature Correlations"
   ]
  },
  {
   "cell_type": "code",
   "execution_count": null,
   "metadata": {},
   "source": [
    "def analyze_correlations(data):\n",
    "    \"\"\"Analyze correlations between features and fire occurrences\"\"\"\n",
    "    # Create correlation matrix\n",
    "    features = {\n",
    "        'fires': data['viirs'].sum(axis=(1, 2)),\n",
    "        'temperature': data['weather']['temperature_2m'].mean(axis=(1, 2)),\n",
    "        'humidity': data['weather']['relative_humidity_2m'].mean(axis=(1, 2)),\n",
    "        'wind_speed': np.sqrt(\n",
    "            data['weather']['u_component_of_wind_10m']**2 +\n",
    "            data['weather']['v_component_of_wind_10m']**2\n",
    "        ).mean(axis=(1, 2)),\n",
    "        'precipitation': data['weather']['total_precipitation'].mean(axis=(1, 2))\n",
    "    }\n",
    "    \n",
    "    df = pd.DataFrame(features)\n",
    "    \n",
    "    # Plot correlation matrix\n",
    "    plt.figure(figsize=(10, 8))\n",
    "    sns.heatmap(df.corr(), annot=True, cmap='coolwarm', center=0)\n",
    "    plt.title('Feature Correlations')\n",
    "    plt.show()\n",
    "\n",
    "analyze_correlations(raw_data)"
   ]
  },
  {
   "cell_type": "markdown",
   "metadata": {},
   "source": [
    "## 6. Data Quality Assessment"
   ]
  },
  {
   "cell_type": "code",
   "execution_count": null,
   "metadata": {},
   "source": [
    "def assess_data_quality(data):\n",
    "    \"\"\"Assess data quality and completeness\"\"\"\n",
    "    quality_metrics = {\n",
    "        'Total Days': len(data['viirs']),\n",
    "        'Missing Values (%)': {\n",
    "            'VIIRS': np.isnan(data['viirs']).mean() * 100,\n",
    "            'Temperature': np.isnan(data['weather']['temperature_2m']).mean() * 100,\n",
    "            'Humidity': np.isnan(data['weather']['relative_humidity_2m']).mean() * 100,\n",
    "            'Wind': np.isnan(data['weather']['u_component_of_wind_10m']).mean() * 100,\n",
    "            'Precipitation': np.isnan(data['weather']['total_precipitation']).mean() * 100\n",
    "        },\n",
    "        'Data Range': {\n",
    "            'Temperature': {\n",
    "                'min': data['weather']['temperature_2m'].min(),\n",
    "                'max': data['weather']['temperature_2m'].max()\n",
    "            },\n",
    "            'Humidity': {\n",
    "                'min': data['weather']['relative_humidity_2m'].min(),\n",
    "                'max': data['weather']['relative_humidity_2m'].max()\n",
    "            }\n",
    "        }\n",
    "    }\n",
    "    \n",
    "    return pd.DataFrame.from_dict(quality_metrics, orient='index')\n",
    "\n",
    "quality_report = assess_data_quality(raw_data)\n",
    "quality_report"
   ]
  }
 ],
 "metadata": {
  "kernelspec": {
   "display_name": "Python 3",
   "language": "python",
   "name": "python3"
  },
  "language_info": {
   "codemirror_mode": {
    "name": "ipython",
    "version": 3
   },
   "file_extension": ".py",
   "mimetype": "text/x-python",
   "name": "python",
   "nbconvert_exporter": "python",
   "pygments_lexer": "ipython3",
   "version": "3.8.0"
  }
 },
 "nbformat": 4,
 "nbformat_minor": 4
}
